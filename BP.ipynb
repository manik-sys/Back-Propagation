{
 "cells": [
  {
   "cell_type": "code",
   "execution_count": 30,
   "metadata": {},
   "outputs": [],
   "source": [
    "import numpy as n"
   ]
  },
  {
   "cell_type": "code",
   "execution_count": 31,
   "metadata": {},
   "outputs": [],
   "source": [
    "def sigmoid(z):\n",
    " return 1/(1 + np.exp(-z))"
   ]
  },
  {
   "cell_type": "code",
   "execution_count": 32,
   "metadata": {},
   "outputs": [],
   "source": [
    "def layers(X, Y,h):\n",
    "    n_x = X.shape[0] # size of input layer\n",
    "    n_h = h\n",
    "    n_y = Y.shape[0] # size of output layer\n",
    "    return (n_x, n_h, n_y)\n"
   ]
  },
  {
   "cell_type": "code",
   "execution_count": 34,
   "metadata": {},
   "outputs": [
    {
     "name": "stdout",
     "output_type": "stream",
     "text": [
      "Enter the weights: 0.4,0.6,0.9\n",
      "Neuron in hidden layer: 5\n",
      "The size of the input layer is: n_x = 3\n",
      "The size of the hidden layer is: n_h = 5\n",
      "The size of the output layer is: n_y = 1\n"
     ]
    }
   ],
   "source": [
    "a = input('Enter the weights: ').split(',')\n",
    "a = list(map(float, a))\n",
    "i = np.array([a])\n",
    "X = i.T\n",
    "h = int(input('Neuron in hidden layer: '))\n",
    "y = np.array([1])\n",
    "(n_x, n_h, n_y) = layers(X, y,h)\n",
    "print(\"The size of the input layer is: n_x = \" + str(n_x))\n",
    "print(\"The size of the hidden layer is: n_h = \" + str(n_h))\n",
    "print(\"The size of the output layer is: n_y = \" + str(n_y))"
   ]
  },
  {
   "cell_type": "code",
   "execution_count": 35,
   "metadata": {},
   "outputs": [],
   "source": [
    "def network_parameters(n_x, n_h, n_y):\n",
    "    Weights1 = np.random.randn(n_h, n_x) * 0.1\n",
    "    bias1 = np.random.randn(n_h,1)\n",
    "    Weights2 = np.random.randn(n_y, n_h) * 0.1\n",
    "    bias2 = np.random.randn(n_y,1)\n",
    "    parameters = {\"W1\": Weights1,\n",
    "                  \"b1\": bias1,\n",
    "                  \"W2\": Weights2,\n",
    "                  \"b2\": bias2}\n",
    "    return parameters"
   ]
  },
  {
   "cell_type": "code",
   "execution_count": 36,
   "metadata": {},
   "outputs": [
    {
     "name": "stdout",
     "output_type": "stream",
     "text": [
      "Weights1 = [[ 0.0625245  -0.01605134 -0.07688364]\n",
      " [-0.02300307  0.07450563  0.19761108]\n",
      " [-0.12441233 -0.06264169 -0.08037661]\n",
      " [-0.24190832 -0.0923792  -0.10238758]\n",
      " [ 0.1123978  -0.01319142 -0.16232854]]\n",
      "bias1 = [[ 0.64667545]\n",
      " [-0.35627076]\n",
      " [-1.74314104]\n",
      " [-0.59664964]\n",
      " [-0.58859438]]\n",
      "Weights2 = [[-0.08738823  0.00297138 -0.22482578 -0.02677619  0.10131834]]\n",
      "bias2 = [[0.85279784]]\n"
     ]
    }
   ],
   "source": [
    "parameters = network_parameters(n_x, n_h, n_y)\n",
    "print(\"Weights1 = \" + str(parameters[\"W1\"]))\n",
    "print(\"bias1 = \" + str(parameters[\"b1\"]))\n",
    "print(\"Weights2 = \" + str(parameters[\"W2\"]))\n",
    "print(\"bias2 = \" + str(parameters[\"b2\"]))"
   ]
  },
  {
   "cell_type": "code",
   "execution_count": 37,
   "metadata": {},
   "outputs": [],
   "source": [
    "#Forward propogation"
   ]
  },
  {
   "cell_type": "code",
   "execution_count": 38,
   "metadata": {},
   "outputs": [],
   "source": [
    "def propagate(X, parameters):\n",
    "    Weights1 = parameters[\"W1\"]\n",
    "    bias1 = parameters[\"b1\"]\n",
    "    Weights2 = parameters[\"W2\"]\n",
    "    bias2 = parameters[\"b2\"]\n",
    "    \n",
    "    Z1 = np.dot(Weights1,X) + bias1\n",
    "    A1 = sigmoid(Z1) \n",
    "    Z2 = np.dot(Weights2, A1) + bias2\n",
    "    A2 = sigmoid(Z2)\n",
    "    cache = {\"Z1\": Z1,\n",
    "             \"A1\": A1,\n",
    "             \"Z2\": Z2,\n",
    "             \"A2\": A2}\n",
    "    return A2, cache"
   ]
  },
  {
   "cell_type": "code",
   "execution_count": 39,
   "metadata": {},
   "outputs": [
    {
     "name": "stdout",
     "output_type": "stream",
     "text": [
      "[[ 0.59285918]\n",
      " [-0.14291864]\n",
      " [-1.90282993]\n",
      " [-0.84098931]\n",
      " [-0.69764581]] [[0.6440209 ]\n",
      " [0.46433103]\n",
      " [0.12978852]\n",
      " [0.30132647]\n",
      " [0.33233439]] [[0.79432109]] [[0.6887584]]\n"
     ]
    }
   ],
   "source": [
    "A2, cache = propagate(X, parameters)\n",
    "print(cache['Z1'], cache['A1'], cache['Z2'], cache['A2'])"
   ]
  },
  {
   "cell_type": "code",
   "execution_count": 40,
   "metadata": {},
   "outputs": [],
   "source": [
    "#Compute cost of network"
   ]
  },
  {
   "cell_type": "code",
   "execution_count": 41,
   "metadata": {},
   "outputs": [],
   "source": [
    "def compute_loss(A2, Y, parameters):\n",
    "    if len(Y.shape)==2:\n",
    "        m = Y.shape[1]\n",
    "    else:\n",
    "        m = 1\n",
    "    logprobs = np.multiply(np.log(A2),Y) + np.multiply(np.log(1-A2),(1-Y))\n",
    "    cost = - (np.sum(logprobs)/m)\n",
    "    cost = float(np.squeeze(cost))\n",
    "    return cost"
   ]
  },
  {
   "cell_type": "code",
   "execution_count": 42,
   "metadata": {},
   "outputs": [
    {
     "name": "stdout",
     "output_type": "stream",
     "text": [
      "cost = 0.372864724386385\n"
     ]
    }
   ],
   "source": [
    "print(\"cost = \" + str(compute_loss(A2, y, parameters)))"
   ]
  },
  {
   "cell_type": "code",
   "execution_count": 43,
   "metadata": {},
   "outputs": [],
   "source": [
    "#backpropogate the cost"
   ]
  },
  {
   "cell_type": "code",
   "execution_count": 44,
   "metadata": {},
   "outputs": [],
   "source": [
    "def backward_propagation(parameters, cache, X, Y):\n",
    "    m = X.shape[1]\n",
    "    Weights1 = parameters[\"W1\"]\n",
    "    Weights2 = parameters[\"W2\"]\n",
    "    A1 = cache['A1']\n",
    "    A2 = cache['A2']\n",
    "    dZ2 = A2-Y\n",
    "    dW2 = (np.dot(dZ2,A1.T)/m)\n",
    "    db2 = (np.sum(dZ2, axis=1,keepdims=True)/m)\n",
    "    dZ1 = np.dot(Weights2.T, dZ2) * (1-np.power(A1,2))\n",
    "    dW1 = (np.dot(dZ1, X.T)/m)\n",
    "    db1 = (np.sum(dZ1, axis=1,keepdims=True)/m)\n",
    "    grads = {\"dW1\": dW1,\n",
    "             \"db1\": db1,\n",
    "             \"dW2\": dW2,\n",
    "             \"db2\": db2}\n",
    "    return grads"
   ]
  },
  {
   "cell_type": "code",
   "execution_count": 45,
   "metadata": {},
   "outputs": [
    {
     "name": "stdout",
     "output_type": "stream",
     "text": [
      "dW1 = [[ 0.00636711  0.00955067  0.014326  ]\n",
      " [-0.00029017 -0.00043525 -0.00065288]\n",
      " [ 0.02751856  0.04127784  0.06191676]\n",
      " [ 0.00303087  0.0045463   0.00681945]\n",
      " [-0.01122065 -0.01683097 -0.02524646]]\n",
      "db1 = [[ 0.01591778]\n",
      " [-0.00072542]\n",
      " [ 0.0687964 ]\n",
      " [ 0.00757717]\n",
      " [-0.02805162]]\n",
      "dW2 = [[-0.2004461  -0.14451913 -0.04039559 -0.09378533 -0.10343629]]\n",
      "db2 = [[-0.3112416]]\n"
     ]
    }
   ],
   "source": [
    "grads = backward_propagation(parameters, cache, X, y)\n",
    "print (\"dW1 = \"+ str(grads[\"dW1\"]))\n",
    "print (\"db1 = \"+ str(grads[\"db1\"]))\n",
    "print (\"dW2 = \"+ str(grads[\"dW2\"]))\n",
    "print (\"db2 = \"+ str(grads[\"db2\"]))"
   ]
  },
  {
   "cell_type": "code",
   "execution_count": 46,
   "metadata": {},
   "outputs": [],
   "source": [
    "#update parameters"
   ]
  },
  {
   "cell_type": "code",
   "execution_count": 47,
   "metadata": {},
   "outputs": [],
   "source": [
    "def update_parameters(parameters, grads, learning_rate = 0.2):\n",
    "    Weights1 = parameters['W1']\n",
    "    bias1 = parameters['b1']\n",
    "    Weights2 = parameters['W2']\n",
    "    bias2 = parameters['b2']\n",
    "    dW1 = grads['dW1']\n",
    "    db1 = grads['db1']\n",
    "    dW2 = grads['dW2']\n",
    "    db2 = grads['db2']\n",
    "    \n",
    "    Weights1 = Weights1 - (learning_rate*dW1)\n",
    "    bias1 = bias1 - (learning_rate*db1)\n",
    "    Weights2 = Weights2 - (learning_rate*dW2)\n",
    "    bias2 = bias2 - (learning_rate*db2)\n",
    "    parameters = {\"W1\": Weights1,\n",
    "                  \"b1\": bias1,\n",
    "                  \"W2\": Weights2,\n",
    "                  \"b2\": bias2}\n",
    "    return parameters"
   ]
  },
  {
   "cell_type": "code",
   "execution_count": 48,
   "metadata": {},
   "outputs": [
    {
     "name": "stdout",
     "output_type": "stream",
     "text": [
      "Weights1 = [[ 0.06125107 -0.01796147 -0.07974883]\n",
      " [-0.02294504  0.07459268  0.19774165]\n",
      " [-0.12991604 -0.07089726 -0.09275996]\n",
      " [-0.24251449 -0.09328846 -0.10375147]\n",
      " [ 0.11464193 -0.00982523 -0.15727925]]\n",
      "bias1 = [[ 0.6434919 ]\n",
      " [-0.35612567]\n",
      " [-1.75690032]\n",
      " [-0.59816508]\n",
      " [-0.58298406]]\n",
      "Weights2 = [[-0.04729901  0.03187521 -0.21674666 -0.00801912  0.1220056 ]]\n",
      "bias2 = [[0.91504616]]\n"
     ]
    }
   ],
   "source": [
    "parameters = update_parameters(parameters, grads)\n",
    "print(\"Weights1 = \" + str(parameters[\"W1\"]))\n",
    "print(\"bias1 = \" + str(parameters[\"b1\"]))\n",
    "print(\"Weights2 = \" + str(parameters[\"W2\"]))\n",
    "print(\"bias2 = \" + str(parameters[\"b2\"]))"
   ]
  },
  {
   "cell_type": "code",
   "execution_count": 49,
   "metadata": {},
   "outputs": [],
   "source": [
    "#Integrate everything"
   ]
  },
  {
   "cell_type": "code",
   "execution_count": 56,
   "metadata": {},
   "outputs": [],
   "source": [
    "def nn_model(X, Y, n_h, num_iterations = 10000, print_cost=False):\n",
    "    np.random.seed(3)\n",
    "    n_x = layers(X, Y,n_h)[0]\n",
    "    n_y = layers(X, Y,n_h)[2]\n",
    "    \n",
    "    parameters = network_parameters(X.shape[0], n_h, Y.shape[0])\n",
    "\n",
    "    # Loop (gradient descent)\n",
    "\n",
    "    for i in range(0, num_iterations):\n",
    "        A2, cache = propagate(X, parameters)\n",
    "        cost = compute_loss(A2, Y, parameters)\n",
    "        grads = backward_propagation(parameters, cache, X, Y)\n",
    "        parameters = update_parameters(parameters, grads)\n",
    "        if print_cost and i%1000 == 0:\n",
    "            print (\"Cost after iteration %i: %f\" %(i, cost))\n",
    "    return parameters"
   ]
  },
  {
   "cell_type": "code",
   "execution_count": 57,
   "metadata": {},
   "outputs": [
    {
     "name": "stdout",
     "output_type": "stream",
     "text": [
      "Cost after iteration 0: 1.141313\n",
      "Cost after iteration 1000: 0.001117\n",
      "Cost after iteration 2000: 0.000523\n",
      "Cost after iteration 3000: 0.000338\n",
      "Cost after iteration 4000: 0.000248\n",
      "Cost after iteration 5000: 0.000196\n",
      "Cost after iteration 6000: 0.000162\n",
      "Cost after iteration 7000: 0.000137\n",
      "Cost after iteration 8000: 0.000119\n",
      "Cost after iteration 9000: 0.000106\n",
      "Weights1 = [[0.54045013 0.58603192 0.82322114]\n",
      " [0.22171776 0.58436173 0.88267493]\n",
      " [0.47974685 0.66933143 1.09366543]\n",
      " [0.26922321 0.34403104 0.80158852]\n",
      " [0.41074391 0.65487547 0.73088061]]\n",
      "bias1 = [[ 0.4992908 ]\n",
      " [ 0.47480764]\n",
      " [-0.32642482]\n",
      " [ 1.77472997]\n",
      " [-0.29453735]]\n",
      "Weights2 = [[1.63965598 1.59481657 1.34490308 2.53282633 1.09274976]]\n",
      "bias2 = [[2.2911678]]\n"
     ]
    }
   ],
   "source": [
    "parameters = nn_model(X, y, h, num_iterations=10000, print_cost=True)\n",
    "print(\"Weights1 = \" + str(parameters[\"W1\"]))\n",
    "print(\"bias1 = \" + str(parameters[\"b1\"]))\n",
    "print(\"Weights2 = \" + str(parameters[\"W2\"]))\n",
    "print(\"bias2 = \" + str(parameters[\"b2\"]))"
   ]
  },
  {
   "cell_type": "code",
   "execution_count": 58,
   "metadata": {},
   "outputs": [],
   "source": [
    "def predict(parameters, X):\n",
    "    A2, cache = propagate(X, parameters)\n",
    "    predictions = np.where(A2 > 0.5, 1, 0)\n",
    "    return predictions\n"
   ]
  },
  {
   "cell_type": "code",
   "execution_count": 59,
   "metadata": {},
   "outputs": [
    {
     "name": "stdout",
     "output_type": "stream",
     "text": [
      "predictions = [[1]]\n"
     ]
    }
   ],
   "source": [
    "predictions = predict(parameters, X)\n",
    "print(\"predictions = \" + str(predictions))"
   ]
  },
  {
   "cell_type": "code",
   "execution_count": null,
   "metadata": {},
   "outputs": [],
   "source": []
  }
 ],
 "metadata": {
  "kernelspec": {
   "display_name": "Python 3",
   "language": "python",
   "name": "python3"
  },
  "language_info": {
   "codemirror_mode": {
    "name": "ipython",
    "version": 3
   },
   "file_extension": ".py",
   "mimetype": "text/x-python",
   "name": "python",
   "nbconvert_exporter": "python",
   "pygments_lexer": "ipython3",
   "version": "3.8.5"
  }
 },
 "nbformat": 4,
 "nbformat_minor": 4
}
